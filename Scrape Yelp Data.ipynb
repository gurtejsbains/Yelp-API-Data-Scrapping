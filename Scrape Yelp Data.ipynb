{
 "cells": [
  {
   "cell_type": "markdown",
   "id": "00400d0e-b7fd-447f-aed9-6d0f1220b040",
   "metadata": {},
   "source": [
    "<h1 style=\"color:green; font-size:30px; font-weight:700; text-align:center\">\n",
    "    <u><b>Scrape Yelp Data using Yelp API</b></u>  \n",
    "</h1> \n",
    "\n",
    "<p></p> \n",
    "<strong> Author:</strong> Gurtej Bains <br> \n",
    "<strong> Data Source:</strong>   <br> \n",
    "<strong> Last Updated: </strong>  <br>  \n",
    "<strong> Problem Statement:</strong> <br>"
   ]
  },
  {
   "cell_type": "markdown",
   "id": "53ad87fe-ffa0-496d-9dc7-01ef4743378a",
   "metadata": {},
   "source": [
    "<h1 style=\"color:green\"><b>Importing Modules</b> </h1>"
   ]
  },
  {
   "cell_type": "markdown",
   "id": "3e55572e-2179-4fbe-b955-e5cc19c34eea",
   "metadata": {
    "jp-MarkdownHeadingCollapsed": true,
    "tags": []
   },
   "source": [
    "## Import Libraries"
   ]
  },
  {
   "cell_type": "code",
   "execution_count": 1,
   "id": "9077cb86-571d-41f9-9ba3-0fcc6c4049a1",
   "metadata": {},
   "outputs": [],
   "source": [
    "# import libraries  \n",
    "\n",
    "# Numpy\n",
    "import numpy as np\n",
    "\n",
    "# Pandas\n",
    "import pandas as pd\n",
    "\n",
    "# MatPlotLib\n",
    "import matplotlib.pyplot as plt\n",
    "\n",
    "# Seaborn\n",
    "import seaborn as sns\n",
    "\n",
    "# MissingNo\n",
    "import missingno as msno\n",
    "\n",
    "# SQL related \n",
    "import pymysql\n",
    "pymysql.install_as_MySQLdb()\n",
    "from sqlalchemy import create_engine\n",
    "\n",
    "from pandasql import sqldf\n",
    "pysqldf = lambda q: sqldf(q, globals())\n",
    "\n",
    "# suppress warnings\n",
    "import warnings\n",
    "warnings.filterwarnings(\"ignore\")\n",
    "\n",
    "# Additional Imports\n",
    "import os, json, math, time\n",
    "from yelpapi import YelpAPI\n",
    "from tqdm.notebook import tqdm_notebook"
   ]
  },
  {
   "cell_type": "markdown",
   "id": "f5b5112c-36b6-41db-920f-b8258d927020",
   "metadata": {
    "jp-MarkdownHeadingCollapsed": true,
    "tags": []
   },
   "source": [
    "## Yelp API"
   ]
  },
  {
   "cell_type": "code",
   "execution_count": 25,
   "id": "aff6a31e-d856-4e9b-84aa-d95c07b05ab3",
   "metadata": {},
   "outputs": [
    {
     "data": {
      "text/plain": [
       "dict_keys(['client-id', 'api-key'])"
      ]
     },
     "execution_count": 25,
     "metadata": {},
     "output_type": "execute_result"
    }
   ],
   "source": [
    "## API Key \n",
    "with open('/Users/gurte/.secret/yelp_api.json') as f: #change the path to match YOUR path!!\n",
    "    login = json.load(f)\n",
    "login.keys()"
   ]
  },
  {
   "cell_type": "code",
   "execution_count": 26,
   "id": "3cb03532-c5bf-4d6b-b535-e488bd686c38",
   "metadata": {},
   "outputs": [
    {
     "data": {
      "text/plain": [
       "<yelpapi.yelpapi.YelpAPI at 0x2662ce458e0>"
      ]
     },
     "execution_count": 26,
     "metadata": {},
     "output_type": "execute_result"
    }
   ],
   "source": [
    "## API Login \n",
    "yelp_api = YelpAPI(login['api-key'], timeout_s=5.0)\n",
    "yelp_api"
   ]
  },
  {
   "cell_type": "markdown",
   "id": "3e2a3b89-664e-48ff-be6c-ce932e9506ff",
   "metadata": {},
   "source": [
    "<h1 style=\"color:green\"><b>Scrape Data</b> </h1>"
   ]
  },
  {
   "cell_type": "markdown",
   "id": "ece155b9-fcc0-4690-bd23-90d4be0c244d",
   "metadata": {
    "jp-MarkdownHeadingCollapsed": true,
    "tags": []
   },
   "source": [
    "## Define function"
   ]
  },
  {
   "cell_type": "code",
   "execution_count": 19,
   "id": "03fa1dc4-ed3b-4ef8-9da7-239125ccd871",
   "metadata": {},
   "outputs": [],
   "source": [
    "def create_json_file(JSON_FILE,  delete_if_exists=False):\n",
    "    \n",
    "    ## Check if JSON_FILE exists\n",
    "    file_exists = os.path.isfile(JSON_FILE)\n",
    "    \n",
    "    ## If it DOES exist:\n",
    "    if file_exists == True:\n",
    "        \n",
    "        ## Check if user wants to delete if exists\n",
    "        if delete_if_exists==True:\n",
    "            print(f\"[!] {JSON_FILE} already exists. Deleting previous file...\")\n",
    "\n",
    "            ## delete file and confirm it no longer exits.\n",
    "            os.remove(JSON_FILE)\n",
    "\n",
    "            ## Recursive call to function after old file deleted\n",
    "            create_json_file(JSON_FILE,delete_if_exists=False)\n",
    "        else:\n",
    "            print(f\"[i] {JSON_FILE} already exists.\")            \n",
    "            \n",
    "            \n",
    "    ## If it does NOT exist:\n",
    "    else:\n",
    "        \n",
    "        ## INFORM USER AND SAVE EMPTY LIST\n",
    "        print(f\"[i] {JSON_FILE} not found. Saving empty list to new file.\")\n",
    "        \n",
    "        ## CREATE ANY NEEDED FOLDERS \n",
    "        # Get the Folder Name only\n",
    "        folder = os.path.dirname(JSON_FILE)\n",
    "        \n",
    "        ## If JSON_FILE included a folder:\n",
    "        if len(folder)>0:\n",
    "            \n",
    "            # create the folder\n",
    "            os.makedirs(folder,exist_ok=True)\n",
    "        \n",
    "        ## Save empty list to start the json file\n",
    "        with open(JSON_FILE,'w') as f:\n",
    "            json.dump([],f)  "
   ]
  },
  {
   "cell_type": "markdown",
   "id": "f3e58691-aa3b-4994-a7ea-a2533b24bad5",
   "metadata": {
    "jp-MarkdownHeadingCollapsed": true,
    "tags": []
   },
   "source": [
    "## Define location and Term"
   ]
  },
  {
   "cell_type": "code",
   "execution_count": 20,
   "id": "ed8fd0c2-712f-47de-8d1f-1cd680f5cc56",
   "metadata": {},
   "outputs": [],
   "source": [
    "# set our API call parameters \n",
    "LOCATION = 'Atlanta, GA'\n",
    "TERM = 'Pizza'"
   ]
  },
  {
   "cell_type": "markdown",
   "id": "a59ca50f-bb7c-4184-9747-d2b622cd1909",
   "metadata": {
    "jp-MarkdownHeadingCollapsed": true,
    "tags": []
   },
   "source": [
    "## File path to save the results "
   ]
  },
  {
   "cell_type": "code",
   "execution_count": 21,
   "id": "bc461fa0-27db-4c4c-8360-5ff066af36b1",
   "metadata": {},
   "outputs": [
    {
     "data": {
      "text/plain": [
       "'Data/results_in_progress_GA_pizza.json'"
      ]
     },
     "execution_count": 21,
     "metadata": {},
     "output_type": "execute_result"
    }
   ],
   "source": [
    "# Specifying JSON_FILE filename (can include a folder)\n",
    "# include the search terms in the filename\n",
    "JSON_FILE = \"Data/results_in_progress_GA_pizza.json\"\n",
    "JSON_FILE    "
   ]
  },
  {
   "cell_type": "markdown",
   "id": "fa1d6b73-a418-41cd-874c-dd0ed7d4cc08",
   "metadata": {
    "jp-MarkdownHeadingCollapsed": true,
    "tags": []
   },
   "source": [
    "## Setting some terms "
   ]
  },
  {
   "cell_type": "code",
   "execution_count": null,
   "id": "c6de5e10-37c3-414b-926c-437b9104742f",
   "metadata": {},
   "outputs": [],
   "source": [
    "## Create a new empty json file (exist the previous if it exists)\n",
    "create_json_file(JSON_FILE, delete_if_exists=True)\n",
    "\n",
    "## Load previous results and use len of results for offset\n",
    "with open(JSON_FILE,'r') as f:\n",
    "    previous_results = json.load(f)\n",
    "    \n",
    "## set offset based on previous results\n",
    "n_results = len(previous_results)\n",
    "print(f'- {n_results} previous results found.')\n",
    "# use our yelp_api variable's search_query method to perform our API call\n",
    "results = yelp_api.search_query(location=LOCATION,\n",
    "                                term=TERM,\n",
    "                               offset=n_results)\n",
    "## How many results total?\n",
    "total_results = results['total']\n",
    "\n",
    "## How many did we get the details for?\n",
    "results_per_page = len(results['businesses'])\n",
    "\n",
    "# Use math.ceil to round up for the total number of pages of results.\n",
    "n_pages = math.ceil((results['total']-n_results)/ results_per_page)\n",
    "n_pages"
   ]
  },
  {
   "cell_type": "markdown",
   "id": "72d3ed00-3151-4c7d-9fac-975dc3d7b5e1",
   "metadata": {
    "jp-MarkdownHeadingCollapsed": true,
    "tags": []
   },
   "source": [
    "## Fetching data "
   ]
  },
  {
   "cell_type": "code",
   "execution_count": 35,
   "id": "c06b1f19-952a-438c-a71b-eaafeb6a40c2",
   "metadata": {},
   "outputs": [
    {
     "data": {
      "application/vnd.jupyter.widget-view+json": {
       "model_id": "b967e8d1ce0a406db55e3d6cf549d570",
       "version_major": 2,
       "version_minor": 0
      },
      "text/plain": [
       "  0%|          | 0/125 [00:00<?, ?it/s]"
      ]
     },
     "metadata": {},
     "output_type": "display_data"
    },
    {
     "name": "stdout",
     "output_type": "stream",
     "text": [
      "Exceeded 1000 api calls. Stopping loop.\n"
     ]
    }
   ],
   "source": [
    "for i in tqdm_notebook( range(1,n_pages+1)):\n",
    "    \n",
    "    ## Read in results in progress file and check the length\n",
    "    with open(JSON_FILE, 'r') as f:\n",
    "        previous_results = json.load(f)\n",
    "    ## save number of results for to use as offset\n",
    "    n_results = len(previous_results)\n",
    "    \n",
    "    if (n_results + results_per_page) > 1000:\n",
    "        print('Exceeded 1000 api calls. Stopping loop.')\n",
    "        break\n",
    "    \n",
    "    ## use n_results as the OFFSET \n",
    "    results = yelp_api.search_query(location=LOCATION,\n",
    "                                    term=TERM, \n",
    "                                    offset=n_results)\n",
    "    \n",
    "    ## append new results and save to file\n",
    "    previous_results.extend(results['businesses'])\n",
    "    \n",
    "    # display(previous_results)\n",
    "    with open(JSON_FILE,'w') as f:\n",
    "        json.dump(previous_results,f)\n",
    "    \n",
    "    time.sleep(.2)"
   ]
  },
  {
   "cell_type": "markdown",
   "id": "878108b4-8e9e-4f6a-9b08-4928d8ab55d2",
   "metadata": {
    "jp-MarkdownHeadingCollapsed": true,
    "tags": []
   },
   "source": [
    "## Convert data to Data Frame"
   ]
  },
  {
   "cell_type": "code",
   "execution_count": 38,
   "id": "b7ec135f-0c7f-44e1-9676-9747b8f9dbc5",
   "metadata": {},
   "outputs": [
    {
     "data": {
      "text/html": [
       "<div>\n",
       "<style scoped>\n",
       "    .dataframe tbody tr th:only-of-type {\n",
       "        vertical-align: middle;\n",
       "    }\n",
       "\n",
       "    .dataframe tbody tr th {\n",
       "        vertical-align: top;\n",
       "    }\n",
       "\n",
       "    .dataframe thead th {\n",
       "        text-align: right;\n",
       "    }\n",
       "</style>\n",
       "<table border=\"1\" class=\"dataframe\">\n",
       "  <thead>\n",
       "    <tr style=\"text-align: right;\">\n",
       "      <th></th>\n",
       "      <th>id</th>\n",
       "      <th>alias</th>\n",
       "      <th>name</th>\n",
       "      <th>image_url</th>\n",
       "      <th>is_closed</th>\n",
       "      <th>url</th>\n",
       "      <th>review_count</th>\n",
       "      <th>categories</th>\n",
       "      <th>rating</th>\n",
       "      <th>coordinates</th>\n",
       "      <th>transactions</th>\n",
       "      <th>price</th>\n",
       "      <th>location</th>\n",
       "      <th>phone</th>\n",
       "      <th>display_phone</th>\n",
       "      <th>distance</th>\n",
       "    </tr>\n",
       "  </thead>\n",
       "  <tbody>\n",
       "    <tr>\n",
       "      <th>0</th>\n",
       "      <td>CxQ1m2iY4wQpXC64tSfWgQ</td>\n",
       "      <td>antico-pizza-atlanta</td>\n",
       "      <td>Antico Pizza</td>\n",
       "      <td>https://s3-media3.fl.yelpcdn.com/bphoto/4QMeSq...</td>\n",
       "      <td>False</td>\n",
       "      <td>https://www.yelp.com/biz/antico-pizza-atlanta?...</td>\n",
       "      <td>3552</td>\n",
       "      <td>[{'alias': 'pizza', 'title': 'Pizza'}]</td>\n",
       "      <td>4.5</td>\n",
       "      <td>{'latitude': 33.7846416243576, 'longitude': -8...</td>\n",
       "      <td>[delivery, pickup]</td>\n",
       "      <td>$$</td>\n",
       "      <td>{'address1': '1093 Hemphill Ave NW', 'address2...</td>\n",
       "      <td>+14047242333</td>\n",
       "      <td>(404) 724-2333</td>\n",
       "      <td>4341.712391</td>\n",
       "    </tr>\n",
       "    <tr>\n",
       "      <th>1</th>\n",
       "      <td>dm9Aq2dtziNTGBFCh0yhYA</td>\n",
       "      <td>fellinis-pizza-buckhead-atlanta</td>\n",
       "      <td>Fellini's Pizza Buckhead</td>\n",
       "      <td>https://s3-media2.fl.yelpcdn.com/bphoto/nMRzKk...</td>\n",
       "      <td>False</td>\n",
       "      <td>https://www.yelp.com/biz/fellinis-pizza-buckhe...</td>\n",
       "      <td>383</td>\n",
       "      <td>[{'alias': 'pizza', 'title': 'Pizza'}]</td>\n",
       "      <td>4.0</td>\n",
       "      <td>{'latitude': 33.831573011169, 'longitude': -84...</td>\n",
       "      <td>[delivery]</td>\n",
       "      <td>$</td>\n",
       "      <td>{'address1': '2809 Peachtree Rd NE', 'address2...</td>\n",
       "      <td>+14042660082</td>\n",
       "      <td>(404) 266-0082</td>\n",
       "      <td>2287.400935</td>\n",
       "    </tr>\n",
       "    <tr>\n",
       "      <th>2</th>\n",
       "      <td>U1S7bSPbyPU2vYVBSZ4POA</td>\n",
       "      <td>e-ke-pizza-atlanta</td>\n",
       "      <td>E Ke Pizza</td>\n",
       "      <td>https://s3-media3.fl.yelpcdn.com/bphoto/2X5aWX...</td>\n",
       "      <td>False</td>\n",
       "      <td>https://www.yelp.com/biz/e-ke-pizza-atlanta?ad...</td>\n",
       "      <td>26</td>\n",
       "      <td>[{'alias': 'pizza', 'title': 'Pizza'}]</td>\n",
       "      <td>5.0</td>\n",
       "      <td>{'latitude': 33.865184, 'longitude': -84.469759}</td>\n",
       "      <td>[pickup, delivery]</td>\n",
       "      <td>NaN</td>\n",
       "      <td>{'address1': '2810 Paces Ferry Rd', 'address2'...</td>\n",
       "      <td>+17704058798</td>\n",
       "      <td>(770) 405-8798</td>\n",
       "      <td>10584.516757</td>\n",
       "    </tr>\n",
       "    <tr>\n",
       "      <th>3</th>\n",
       "      <td>454LWMBW-Ps723Ljkj3CeQ</td>\n",
       "      <td>donatos-pizza-atlanta-5</td>\n",
       "      <td>Donatos Pizza</td>\n",
       "      <td>https://s3-media4.fl.yelpcdn.com/bphoto/5S3OeL...</td>\n",
       "      <td>False</td>\n",
       "      <td>https://www.yelp.com/biz/donatos-pizza-atlanta...</td>\n",
       "      <td>16</td>\n",
       "      <td>[{'alias': 'pizza', 'title': 'Pizza'}, {'alias...</td>\n",
       "      <td>4.0</td>\n",
       "      <td>{'latitude': 33.817867, 'longitude': -84.310288}</td>\n",
       "      <td>[]</td>\n",
       "      <td>NaN</td>\n",
       "      <td>{'address1': '2884 N Druid Hills Rd NE', 'addr...</td>\n",
       "      <td>+14043825211</td>\n",
       "      <td>(404) 382-5211</td>\n",
       "      <td>5881.640170</td>\n",
       "    </tr>\n",
       "    <tr>\n",
       "      <th>4</th>\n",
       "      <td>ZMEZgMF9FkgR9yl_RJkWfQ</td>\n",
       "      <td>fellinis-pizza-atlanta</td>\n",
       "      <td>Fellini's Pizza</td>\n",
       "      <td>https://s3-media2.fl.yelpcdn.com/bphoto/Oz7xW-...</td>\n",
       "      <td>False</td>\n",
       "      <td>https://www.yelp.com/biz/fellinis-pizza-atlant...</td>\n",
       "      <td>598</td>\n",
       "      <td>[{'alias': 'pizza', 'title': 'Pizza'}]</td>\n",
       "      <td>4.0</td>\n",
       "      <td>{'latitude': 33.773584, 'longitude': -84.357644}</td>\n",
       "      <td>[delivery]</td>\n",
       "      <td>$</td>\n",
       "      <td>{'address1': '909 Ponce De Leon Ave NE', 'addr...</td>\n",
       "      <td>+14048733088</td>\n",
       "      <td>(404) 873-3088</td>\n",
       "      <td>4647.476166</td>\n",
       "    </tr>\n",
       "  </tbody>\n",
       "</table>\n",
       "</div>"
      ],
      "text/plain": [
       "                       id                            alias  \\\n",
       "0  CxQ1m2iY4wQpXC64tSfWgQ             antico-pizza-atlanta   \n",
       "1  dm9Aq2dtziNTGBFCh0yhYA  fellinis-pizza-buckhead-atlanta   \n",
       "2  U1S7bSPbyPU2vYVBSZ4POA               e-ke-pizza-atlanta   \n",
       "3  454LWMBW-Ps723Ljkj3CeQ          donatos-pizza-atlanta-5   \n",
       "4  ZMEZgMF9FkgR9yl_RJkWfQ           fellinis-pizza-atlanta   \n",
       "\n",
       "                       name  \\\n",
       "0              Antico Pizza   \n",
       "1  Fellini's Pizza Buckhead   \n",
       "2                E Ke Pizza   \n",
       "3             Donatos Pizza   \n",
       "4           Fellini's Pizza   \n",
       "\n",
       "                                           image_url  is_closed  \\\n",
       "0  https://s3-media3.fl.yelpcdn.com/bphoto/4QMeSq...      False   \n",
       "1  https://s3-media2.fl.yelpcdn.com/bphoto/nMRzKk...      False   \n",
       "2  https://s3-media3.fl.yelpcdn.com/bphoto/2X5aWX...      False   \n",
       "3  https://s3-media4.fl.yelpcdn.com/bphoto/5S3OeL...      False   \n",
       "4  https://s3-media2.fl.yelpcdn.com/bphoto/Oz7xW-...      False   \n",
       "\n",
       "                                                 url  review_count  \\\n",
       "0  https://www.yelp.com/biz/antico-pizza-atlanta?...          3552   \n",
       "1  https://www.yelp.com/biz/fellinis-pizza-buckhe...           383   \n",
       "2  https://www.yelp.com/biz/e-ke-pizza-atlanta?ad...            26   \n",
       "3  https://www.yelp.com/biz/donatos-pizza-atlanta...            16   \n",
       "4  https://www.yelp.com/biz/fellinis-pizza-atlant...           598   \n",
       "\n",
       "                                          categories  rating  \\\n",
       "0             [{'alias': 'pizza', 'title': 'Pizza'}]     4.5   \n",
       "1             [{'alias': 'pizza', 'title': 'Pizza'}]     4.0   \n",
       "2             [{'alias': 'pizza', 'title': 'Pizza'}]     5.0   \n",
       "3  [{'alias': 'pizza', 'title': 'Pizza'}, {'alias...     4.0   \n",
       "4             [{'alias': 'pizza', 'title': 'Pizza'}]     4.0   \n",
       "\n",
       "                                         coordinates        transactions  \\\n",
       "0  {'latitude': 33.7846416243576, 'longitude': -8...  [delivery, pickup]   \n",
       "1  {'latitude': 33.831573011169, 'longitude': -84...          [delivery]   \n",
       "2   {'latitude': 33.865184, 'longitude': -84.469759}  [pickup, delivery]   \n",
       "3   {'latitude': 33.817867, 'longitude': -84.310288}                  []   \n",
       "4   {'latitude': 33.773584, 'longitude': -84.357644}          [delivery]   \n",
       "\n",
       "  price                                           location         phone  \\\n",
       "0    $$  {'address1': '1093 Hemphill Ave NW', 'address2...  +14047242333   \n",
       "1     $  {'address1': '2809 Peachtree Rd NE', 'address2...  +14042660082   \n",
       "2   NaN  {'address1': '2810 Paces Ferry Rd', 'address2'...  +17704058798   \n",
       "3   NaN  {'address1': '2884 N Druid Hills Rd NE', 'addr...  +14043825211   \n",
       "4     $  {'address1': '909 Ponce De Leon Ave NE', 'addr...  +14048733088   \n",
       "\n",
       "    display_phone      distance  \n",
       "0  (404) 724-2333   4341.712391  \n",
       "1  (404) 266-0082   2287.400935  \n",
       "2  (770) 405-8798  10584.516757  \n",
       "3  (404) 382-5211   5881.640170  \n",
       "4  (404) 873-3088   4647.476166  "
      ]
     },
     "metadata": {},
     "output_type": "display_data"
    },
    {
     "data": {
      "text/html": [
       "<div>\n",
       "<style scoped>\n",
       "    .dataframe tbody tr th:only-of-type {\n",
       "        vertical-align: middle;\n",
       "    }\n",
       "\n",
       "    .dataframe tbody tr th {\n",
       "        vertical-align: top;\n",
       "    }\n",
       "\n",
       "    .dataframe thead th {\n",
       "        text-align: right;\n",
       "    }\n",
       "</style>\n",
       "<table border=\"1\" class=\"dataframe\">\n",
       "  <thead>\n",
       "    <tr style=\"text-align: right;\">\n",
       "      <th></th>\n",
       "      <th>id</th>\n",
       "      <th>alias</th>\n",
       "      <th>name</th>\n",
       "      <th>image_url</th>\n",
       "      <th>is_closed</th>\n",
       "      <th>url</th>\n",
       "      <th>review_count</th>\n",
       "      <th>categories</th>\n",
       "      <th>rating</th>\n",
       "      <th>coordinates</th>\n",
       "      <th>transactions</th>\n",
       "      <th>price</th>\n",
       "      <th>location</th>\n",
       "      <th>phone</th>\n",
       "      <th>display_phone</th>\n",
       "      <th>distance</th>\n",
       "    </tr>\n",
       "  </thead>\n",
       "  <tbody>\n",
       "    <tr>\n",
       "      <th>995</th>\n",
       "      <td>1L5f1hHFwfS-f-CF8Bx2Cg</td>\n",
       "      <td>auburn-pizza-lounge-atlanta</td>\n",
       "      <td>Auburn Pizza Lounge</td>\n",
       "      <td></td>\n",
       "      <td>False</td>\n",
       "      <td>https://www.yelp.com/biz/auburn-pizza-lounge-a...</td>\n",
       "      <td>6</td>\n",
       "      <td>[{'alias': 'pizza', 'title': 'Pizza'}]</td>\n",
       "      <td>1.0</td>\n",
       "      <td>{'latitude': 33.755787, 'longitude': -84.381622}</td>\n",
       "      <td>[delivery, pickup]</td>\n",
       "      <td>$</td>\n",
       "      <td>{'address1': '171 Auburn Ave', 'address2': '',...</td>\n",
       "      <td></td>\n",
       "      <td></td>\n",
       "      <td>6428.095581</td>\n",
       "    </tr>\n",
       "    <tr>\n",
       "      <th>996</th>\n",
       "      <td>GVeJd7TWnpI1lpfd61DhTg</td>\n",
       "      <td>my-pizza-n-wings-duluth</td>\n",
       "      <td>My Pizza N Wings</td>\n",
       "      <td>https://s3-media2.fl.yelpcdn.com/bphoto/DfQhQX...</td>\n",
       "      <td>False</td>\n",
       "      <td>https://www.yelp.com/biz/my-pizza-n-wings-dulu...</td>\n",
       "      <td>7</td>\n",
       "      <td>[{'alias': 'chicken_wings', 'title': 'Chicken ...</td>\n",
       "      <td>2.0</td>\n",
       "      <td>{'latitude': 33.94231, 'longitude': -84.12757}</td>\n",
       "      <td>[]</td>\n",
       "      <td>$</td>\n",
       "      <td>{'address1': '3725 Club Dr', 'address2': 'Ste ...</td>\n",
       "      <td>+16783801774</td>\n",
       "      <td>(678) 380-1774</td>\n",
       "      <td>26860.228967</td>\n",
       "    </tr>\n",
       "    <tr>\n",
       "      <th>997</th>\n",
       "      <td>eqFA5BJ5NDjZ4TaUXJazfg</td>\n",
       "      <td>canoe-atlanta-2</td>\n",
       "      <td>Canoe</td>\n",
       "      <td>https://s3-media3.fl.yelpcdn.com/bphoto/b0HcV_...</td>\n",
       "      <td>False</td>\n",
       "      <td>https://www.yelp.com/biz/canoe-atlanta-2?adjus...</td>\n",
       "      <td>2205</td>\n",
       "      <td>[{'alias': 'newamerican', 'title': 'American (...</td>\n",
       "      <td>4.5</td>\n",
       "      <td>{'latitude': 33.859863, 'longitude': -84.455464}</td>\n",
       "      <td>[delivery]</td>\n",
       "      <td>$$$</td>\n",
       "      <td>{'address1': '4199 Paces Ferry Rd SE', 'addres...</td>\n",
       "      <td>+17704322663</td>\n",
       "      <td>(770) 432-2663</td>\n",
       "      <td>9167.343267</td>\n",
       "    </tr>\n",
       "    <tr>\n",
       "      <th>998</th>\n",
       "      <td>-jr8C7k7r0Xfcac7tR88ug</td>\n",
       "      <td>papa-johns-pizza-cumming-2</td>\n",
       "      <td>Papa Johns Pizza</td>\n",
       "      <td>https://s3-media3.fl.yelpcdn.com/bphoto/AMZdRT...</td>\n",
       "      <td>False</td>\n",
       "      <td>https://www.yelp.com/biz/papa-johns-pizza-cumm...</td>\n",
       "      <td>32</td>\n",
       "      <td>[{'alias': 'pizza', 'title': 'Pizza'}, {'alias...</td>\n",
       "      <td>2.0</td>\n",
       "      <td>{'latitude': 34.1227112, 'longitude': -84.1685...</td>\n",
       "      <td>[delivery, pickup]</td>\n",
       "      <td>$</td>\n",
       "      <td>{'address1': '1595 Peachtree Pkwy', 'address2'...</td>\n",
       "      <td>+17708882425</td>\n",
       "      <td>(770) 888-2425</td>\n",
       "      <td>39268.579320</td>\n",
       "    </tr>\n",
       "    <tr>\n",
       "      <th>999</th>\n",
       "      <td>MaIMxWff_Qn8b2PalLdkYw</td>\n",
       "      <td>kroger-atlanta-63</td>\n",
       "      <td>Kroger</td>\n",
       "      <td>https://s3-media1.fl.yelpcdn.com/bphoto/hlb6XY...</td>\n",
       "      <td>False</td>\n",
       "      <td>https://www.yelp.com/biz/kroger-atlanta-63?adj...</td>\n",
       "      <td>95</td>\n",
       "      <td>[{'alias': 'grocery', 'title': 'Grocery'}]</td>\n",
       "      <td>3.5</td>\n",
       "      <td>{'latitude': 33.8225260223259, 'longitude': -8...</td>\n",
       "      <td>[]</td>\n",
       "      <td>$$</td>\n",
       "      <td>{'address1': '2452 Morosgo Way', 'address2': '...</td>\n",
       "      <td>+14049460438</td>\n",
       "      <td>(404) 946-0438</td>\n",
       "      <td>1251.706504</td>\n",
       "    </tr>\n",
       "  </tbody>\n",
       "</table>\n",
       "</div>"
      ],
      "text/plain": [
       "                         id                        alias                 name  \\\n",
       "995  1L5f1hHFwfS-f-CF8Bx2Cg  auburn-pizza-lounge-atlanta  Auburn Pizza Lounge   \n",
       "996  GVeJd7TWnpI1lpfd61DhTg      my-pizza-n-wings-duluth     My Pizza N Wings   \n",
       "997  eqFA5BJ5NDjZ4TaUXJazfg              canoe-atlanta-2                Canoe   \n",
       "998  -jr8C7k7r0Xfcac7tR88ug   papa-johns-pizza-cumming-2     Papa Johns Pizza   \n",
       "999  MaIMxWff_Qn8b2PalLdkYw            kroger-atlanta-63               Kroger   \n",
       "\n",
       "                                             image_url  is_closed  \\\n",
       "995                                                         False   \n",
       "996  https://s3-media2.fl.yelpcdn.com/bphoto/DfQhQX...      False   \n",
       "997  https://s3-media3.fl.yelpcdn.com/bphoto/b0HcV_...      False   \n",
       "998  https://s3-media3.fl.yelpcdn.com/bphoto/AMZdRT...      False   \n",
       "999  https://s3-media1.fl.yelpcdn.com/bphoto/hlb6XY...      False   \n",
       "\n",
       "                                                   url  review_count  \\\n",
       "995  https://www.yelp.com/biz/auburn-pizza-lounge-a...             6   \n",
       "996  https://www.yelp.com/biz/my-pizza-n-wings-dulu...             7   \n",
       "997  https://www.yelp.com/biz/canoe-atlanta-2?adjus...          2205   \n",
       "998  https://www.yelp.com/biz/papa-johns-pizza-cumm...            32   \n",
       "999  https://www.yelp.com/biz/kroger-atlanta-63?adj...            95   \n",
       "\n",
       "                                            categories  rating  \\\n",
       "995             [{'alias': 'pizza', 'title': 'Pizza'}]     1.0   \n",
       "996  [{'alias': 'chicken_wings', 'title': 'Chicken ...     2.0   \n",
       "997  [{'alias': 'newamerican', 'title': 'American (...     4.5   \n",
       "998  [{'alias': 'pizza', 'title': 'Pizza'}, {'alias...     2.0   \n",
       "999         [{'alias': 'grocery', 'title': 'Grocery'}]     3.5   \n",
       "\n",
       "                                           coordinates        transactions  \\\n",
       "995   {'latitude': 33.755787, 'longitude': -84.381622}  [delivery, pickup]   \n",
       "996     {'latitude': 33.94231, 'longitude': -84.12757}                  []   \n",
       "997   {'latitude': 33.859863, 'longitude': -84.455464}          [delivery]   \n",
       "998  {'latitude': 34.1227112, 'longitude': -84.1685...  [delivery, pickup]   \n",
       "999  {'latitude': 33.8225260223259, 'longitude': -8...                  []   \n",
       "\n",
       "    price                                           location         phone  \\\n",
       "995     $  {'address1': '171 Auburn Ave', 'address2': '',...                 \n",
       "996     $  {'address1': '3725 Club Dr', 'address2': 'Ste ...  +16783801774   \n",
       "997   $$$  {'address1': '4199 Paces Ferry Rd SE', 'addres...  +17704322663   \n",
       "998     $  {'address1': '1595 Peachtree Pkwy', 'address2'...  +17708882425   \n",
       "999    $$  {'address1': '2452 Morosgo Way', 'address2': '...  +14049460438   \n",
       "\n",
       "      display_phone      distance  \n",
       "995                   6428.095581  \n",
       "996  (678) 380-1774  26860.228967  \n",
       "997  (770) 432-2663   9167.343267  \n",
       "998  (770) 888-2425  39268.579320  \n",
       "999  (404) 946-0438   1251.706504  "
      ]
     },
     "metadata": {},
     "output_type": "display_data"
    }
   ],
   "source": [
    "# load final results\n",
    "final_df = pd.read_json(JSON_FILE)\n",
    "display(final_df.head(), final_df.tail())"
   ]
  },
  {
   "cell_type": "markdown",
   "id": "7d3c72ac-b3d0-4e7a-a566-6691bdbdd05d",
   "metadata": {},
   "source": [
    "<h1 style=\"color:green\"><b>Clean Data</b> </h1>"
   ]
  },
  {
   "cell_type": "markdown",
   "id": "5f162047-5d2b-4926-a825-f86432005df7",
   "metadata": {
    "jp-MarkdownHeadingCollapsed": true,
    "tags": []
   },
   "source": [
    "## Check duplicates "
   ]
  },
  {
   "cell_type": "code",
   "execution_count": 39,
   "id": "ae94ee40-78ff-4d57-b400-884cee618d39",
   "metadata": {},
   "outputs": [
    {
     "data": {
      "text/plain": [
       "0"
      ]
     },
     "execution_count": 39,
     "metadata": {},
     "output_type": "execute_result"
    }
   ],
   "source": [
    "# check for duplicate ID's \n",
    "final_df.duplicated(subset='id').sum()"
   ]
  },
  {
   "cell_type": "markdown",
   "id": "c67edb50-9af5-4573-9ae5-a70f02f05e19",
   "metadata": {
    "jp-MarkdownHeadingCollapsed": true,
    "tags": []
   },
   "source": [
    "## Save Data to CSV"
   ]
  },
  {
   "cell_type": "code",
   "execution_count": 40,
   "id": "beb9ffd7-65bb-47ae-823c-300cd4717ce6",
   "metadata": {},
   "outputs": [],
   "source": [
    "# save the final results to a compressed csv\n",
    "final_df.to_csv('Data/final_results_ATL_pizza.csv.gz', compression='gzip',index=False)"
   ]
  }
 ],
 "metadata": {
  "kernelspec": {
   "display_name": "Python (dojo-env)",
   "language": "python",
   "name": "dojo-env"
  },
  "language_info": {
   "codemirror_mode": {
    "name": "ipython",
    "version": 3
   },
   "file_extension": ".py",
   "mimetype": "text/x-python",
   "name": "python",
   "nbconvert_exporter": "python",
   "pygments_lexer": "ipython3",
   "version": "3.9.15"
  }
 },
 "nbformat": 4,
 "nbformat_minor": 5
}
